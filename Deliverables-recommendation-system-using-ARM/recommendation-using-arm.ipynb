{
 "cells": [
  {
   "cell_type": "markdown",
   "metadata": {},
   "source": [
    "## Recommendation using ARM - apriori "
   ]
  },
  {
   "cell_type": "markdown",
   "metadata": {},
   "source": [
    "##### Thanks to https://github.com/ashishpatel26/Market-Basket-Analysis/blob/master"
   ]
  },
  {
   "cell_type": "code",
   "execution_count": 52,
   "metadata": {},
   "outputs": [],
   "source": [
    "# importing packages\n",
    "import pandas as pd"
   ]
  },
  {
   "cell_type": "code",
   "execution_count": 53,
   "metadata": {},
   "outputs": [],
   "source": [
    "# lading all the datas\n",
    "prior_order = pd.read_csv(\"./Data/order_products__prior.csv\")\n",
    "train_order = pd.read_csv(\"./Data/order_products__train.csv\")\n",
    "products = pd.read_csv(\"./Data/products.csv\")\n",
    "aisles = pd.read_csv(\"./Data/aisles.csv\")\n",
    "departments = pd.read_csv(\"./Data/departments.csv\")\n",
    "orders = pd.read_csv(\"./Data/orders.csv\")"
   ]
  },
  {
   "cell_type": "code",
   "execution_count": 54,
   "metadata": {},
   "outputs": [],
   "source": [
    "# MERGE all the dataset to get the gist on data\n",
    "\n",
    "#concat train order and prior orders\n",
    "prior_train_orders = pd.concat([prior_order, train_order]).sort_values(by=['order_id'])\n",
    "\n",
    "#merge with rest\n",
    "prior_train_orders = pd.merge(left = prior_train_orders, right = products,\n",
    "                             left_on='product_id', right_on='product_id').sort_values(by=['order_id']).reset_index(drop=True)\n",
    "prior_train_orders = pd.merge(left = prior_train_orders, right = aisles,\n",
    "                             left_on='aisle_id', right_on='aisle_id').sort_values(by=['order_id']).reset_index(drop=True)\n",
    "prior_train_orders = pd.merge(left = prior_train_orders, right = departments,\n",
    "                             left_on='department_id', right_on='department_id').sort_values(by=['order_id']).reset_index(drop=True)\n",
    "prior_train_orders = pd.merge(left = prior_train_orders, right = orders,\n",
    "                             left_on='order_id', right_on='order_id').sort_values(by=['order_id']).reset_index(drop=True)\n",
    "\n",
    "col_order = ['user_id','order_id','product_id','aisle_id','department_id','add_to_cart_order',\n",
    " 'reordered','product_name','aisle','department','eval_set','order_number','order_dow','order_hour_of_day',\n",
    " 'days_since_prior_order']\n",
    "\n",
    "prior_train_orders = prior_train_orders[col_order]"
   ]
  },
  {
   "cell_type": "markdown",
   "metadata": {},
   "source": [
    "### Since the size of the dataset is huge, so listing out some value to create small dataset\n",
    "\n",
    "- First we combined all the purchases items on daily basis\n",
    "- Listed all the items to make data ready for apriori algorithm"
   ]
  },
  {
   "cell_type": "code",
   "execution_count": 1,
   "metadata": {},
   "outputs": [],
   "source": [
    "purchases_list= [[\n",
    "  'coke zero',\n",
    "    'vanilla blueberry',\n",
    "      'banana',\n",
    "   'organic cilantro',\n",
    "  'dark chocolate minis'],\n",
    " ['natural vanilla ice cream',\n",
    "  'whipped light cream',\n",
    "  'original',\n",
    "  'vanilla blueberry'\n",
    "],\n",
    " [\n",
    "  'sparkling water',\n",
    "  'vanilla blueberry',\n",
    "  'dark chocolate minis'\n",
    "],\n",
    " [\n",
    "  'dark sumatra ground coffee',\n",
    "  'coke zero',\n",
    "  'banana',\n",
    "   'organic cilantro',\n",
    "  'organic salted butter'],\n",
    "  [\n",
    "    'limes',\n",
    "  'organic ghee',\n",
    "  'organic cilantro',\n",
    "  'vanilla blueberry'\n",
    "  ],\n",
    " [\n",
    "  'organic avocados',\n",
    "  'banana',\n",
    "  'organic strawberries',\n",
    "  'miso soup',\n",
    "  'organic edamame'\n",
    "  'vanilla blueberry'\n",
    "  ],\n",
    "  [\n",
    "    'just green unsweetened tea',\n",
    "       'banana',\n",
    "  'organic strawberries',\n",
    "  'fresh cauliflower'\n",
    "  ],\n",
    " [\n",
    "  'miso soup',\n",
    "    'organic edamame',\n",
    "      'vanilla blueberry',\n",
    "  'dark chocolate minis'\n",
    "],\n",
    " [\n",
    "  'macaroni & cheese',\n",
    "  'vanilla blueberry'],\n",
    " [\n",
    "  'bananas',\n",
    "  'reduced fat milk',\n",
    "   'vanilla blueberry',\n",
    "  'organic pumpkin'\n",
    "  ],\n",
    "  [\n",
    "      'just green unsweetened tea',\n",
    "  'peach mango iced green tea',\n",
    "  'natural vanilla ice cream',\n",
    "  'whipped light cream'\n",
    "  ],\n",
    " [\n",
    "  'organic hass avocado',\n",
    "  'miso soup',\n",
    "  'organic edamame',\n",
    "  'vanilla blueberry',\n",
    "  'organic pumpkin',\n",
    "  'sesame seaweed salad'],\n",
    " ['just green unsweetened tea',\n",
    "  'peach mango iced green tea',\n",
    "  'organic strawberries',\n",
    " 'organic edamame',\n",
    "  'vanilla blueberry',\n",
    "  'organic pumpkin'\n",
    "]]"
   ]
  },
  {
   "cell_type": "code",
   "execution_count": 2,
   "metadata": {},
   "outputs": [],
   "source": [
    "from apyori import apriori"
   ]
  },
  {
   "cell_type": "code",
   "execution_count": 3,
   "metadata": {},
   "outputs": [
    {
     "data": {
      "text/plain": [
       "[RelationRecord(items=frozenset({'coke zero', 'banana'}), support=0.15384615384615385, ordered_statistics=[OrderedStatistic(items_base=frozenset({'banana'}), items_add=frozenset({'coke zero'}), confidence=0.5, lift=3.25), OrderedStatistic(items_base=frozenset({'coke zero'}), items_add=frozenset({'banana'}), confidence=1.0, lift=3.25)]),\n",
       " RelationRecord(items=frozenset({'coke zero', 'organic cilantro'}), support=0.15384615384615385, ordered_statistics=[OrderedStatistic(items_base=frozenset({'coke zero'}), items_add=frozenset({'organic cilantro'}), confidence=1.0, lift=4.333333333333333), OrderedStatistic(items_base=frozenset({'organic cilantro'}), items_add=frozenset({'coke zero'}), confidence=0.6666666666666666, lift=4.333333333333333)]),\n",
       " RelationRecord(items=frozenset({'peach mango iced green tea', 'just green unsweetened tea'}), support=0.15384615384615385, ordered_statistics=[OrderedStatistic(items_base=frozenset({'just green unsweetened tea'}), items_add=frozenset({'peach mango iced green tea'}), confidence=0.6666666666666666, lift=4.333333333333333), OrderedStatistic(items_base=frozenset({'peach mango iced green tea'}), items_add=frozenset({'just green unsweetened tea'}), confidence=1.0, lift=4.333333333333333)]),\n",
       " RelationRecord(items=frozenset({'natural vanilla ice cream', 'whipped light cream'}), support=0.15384615384615385, ordered_statistics=[OrderedStatistic(items_base=frozenset({'natural vanilla ice cream'}), items_add=frozenset({'whipped light cream'}), confidence=1.0, lift=6.5), OrderedStatistic(items_base=frozenset({'whipped light cream'}), items_add=frozenset({'natural vanilla ice cream'}), confidence=1.0, lift=6.5)]),\n",
       " RelationRecord(items=frozenset({'coke zero', 'organic cilantro', 'banana'}), support=0.15384615384615385, ordered_statistics=[OrderedStatistic(items_base=frozenset({'banana'}), items_add=frozenset({'coke zero', 'organic cilantro'}), confidence=0.5, lift=3.25), OrderedStatistic(items_base=frozenset({'coke zero'}), items_add=frozenset({'organic cilantro', 'banana'}), confidence=1.0, lift=6.5), OrderedStatistic(items_base=frozenset({'organic cilantro'}), items_add=frozenset({'coke zero', 'banana'}), confidence=0.6666666666666666, lift=4.333333333333333), OrderedStatistic(items_base=frozenset({'coke zero', 'banana'}), items_add=frozenset({'organic cilantro'}), confidence=1.0, lift=4.333333333333333), OrderedStatistic(items_base=frozenset({'organic cilantro', 'banana'}), items_add=frozenset({'coke zero'}), confidence=1.0, lift=6.5), OrderedStatistic(items_base=frozenset({'coke zero', 'organic cilantro'}), items_add=frozenset({'banana'}), confidence=1.0, lift=3.25)]),\n",
       " RelationRecord(items=frozenset({'organic edamame', 'miso soup', 'vanilla blueberry'}), support=0.15384615384615385, ordered_statistics=[OrderedStatistic(items_base=frozenset({'organic edamame'}), items_add=frozenset({'miso soup', 'vanilla blueberry'}), confidence=0.6666666666666666, lift=4.333333333333333), OrderedStatistic(items_base=frozenset({'miso soup', 'vanilla blueberry'}), items_add=frozenset({'organic edamame'}), confidence=1.0, lift=4.333333333333333)])]"
      ]
     },
     "execution_count": 3,
     "metadata": {},
     "output_type": "execute_result"
    }
   ],
   "source": [
    "association_rules = apriori(purchases_list, min_support=0.090, min_confidence=0.5, min_lift=3, min_length=2)\n",
    "association_results = list(association_rules)\n",
    "association_results"
   ]
  },
  {
   "cell_type": "code",
   "execution_count": 4,
   "metadata": {},
   "outputs": [
    {
     "name": "stdout",
     "output_type": "stream",
     "text": [
      "There are 6 Relation derived.\n"
     ]
    }
   ],
   "source": [
    "print(\"There are {} Relation derived.\".format(len(association_results)))"
   ]
  },
  {
   "cell_type": "code",
   "execution_count": 5,
   "metadata": {},
   "outputs": [
    {
     "name": "stdout",
     "output_type": "stream",
     "text": [
      "frozenset({'coke zero', 'banana'})\n",
      "frozenset({'coke zero', 'organic cilantro'})\n",
      "frozenset({'peach mango iced green tea', 'just green unsweetened tea'})\n",
      "frozenset({'natural vanilla ice cream', 'whipped light cream'})\n",
      "frozenset({'coke zero', 'organic cilantro', 'banana'})\n",
      "frozenset({'organic edamame', 'miso soup', 'vanilla blueberry'})\n"
     ]
    }
   ],
   "source": [
    "for i in range(0, len(association_results)):\n",
    "    print(association_results[i][0])"
   ]
  },
  {
   "cell_type": "code",
   "execution_count": 7,
   "metadata": {},
   "outputs": [
    {
     "name": "stdout",
     "output_type": "stream",
     "text": [
      "Rule: coke zero -> banana\n",
      "Support: 0.15384615384615385\n",
      "Confidence: 0.5\n",
      "Lift: 3.25\n",
      "=====================================\n",
      "Rule: coke zero -> organic cilantro\n",
      "Support: 0.15384615384615385\n",
      "Confidence: 1.0\n",
      "Lift: 4.333333333333333\n",
      "=====================================\n",
      "Rule: peach mango iced green tea -> just green unsweetened tea\n",
      "Support: 0.15384615384615385\n",
      "Confidence: 0.6666666666666666\n",
      "Lift: 4.333333333333333\n",
      "=====================================\n",
      "Rule: natural vanilla ice cream -> whipped light cream\n",
      "Support: 0.15384615384615385\n",
      "Confidence: 1.0\n",
      "Lift: 6.5\n",
      "=====================================\n",
      "Rule: coke zero -> organic cilantro\n",
      "Support: 0.15384615384615385\n",
      "Confidence: 0.5\n",
      "Lift: 3.25\n",
      "=====================================\n",
      "Rule: organic edamame -> miso soup\n",
      "Support: 0.15384615384615385\n",
      "Confidence: 0.6666666666666666\n",
      "Lift: 4.333333333333333\n",
      "=====================================\n"
     ]
    }
   ],
   "source": [
    "for item in association_results:\n",
    "    # first index of the inner list\n",
    "    # Contains base item and add item\n",
    "    pair = item[0]\n",
    "    items = [x for x in pair]\n",
    "    print(\"Rule: \" + items[0] + \" -> \" + items[1])\n",
    "\n",
    "    # second index of the inner list\n",
    "    print(\"Support: \" + str(item[1]))\n",
    "\n",
    "    # third index of the list located at 0th\n",
    "    # of the third index of the inner list\n",
    "\n",
    "    print(\"Confidence: \" + str(item[2][0][2]))\n",
    "    print(\"Lift: \" + str(item[2][0][3]))\n",
    "    print(\"=====================================\")"
   ]
  },
  {
   "cell_type": "code",
   "execution_count": 9,
   "metadata": {},
   "outputs": [
    {
     "name": "stdout",
     "output_type": "stream",
     "text": [
      "natural vanilla ice cream to whipped light cream\n",
      "['whipped light cream']\n"
     ]
    }
   ],
   "source": [
    "def get_recommended_product(product):\n",
    "    '''\n",
    "    User defined function to get recommended products\n",
    "    '''\n",
    "    recommended_list = []\n",
    "    for item in association_results:\n",
    "        pair = item[0]\n",
    "        items = [x for x in pair]\n",
    "        if product == items[0]:\n",
    "            print(items[0] ,\"to\",items[1])\n",
    "            recommended_list.append(items[1])\n",
    "\n",
    "            \n",
    "    if len(recommended_list) >0:\n",
    "        return recommended_list\n",
    "    else:\n",
    "        return \"Can't recommended any product. Will handle it later\"\n",
    "        \n",
    "\n",
    "\n",
    "\n",
    "user_input = input('Enter the product name:\\t')\n",
    "result = get_recommended_product(user_input)\n",
    "print(result)"
   ]
  },
  {
   "cell_type": "markdown",
   "metadata": {},
   "source": [
    "## Reduced data: Real data-- From collab\n",
    "https://colab.research.google.com/drive/1wV62KnQKKBV5bGeoeadORWg2KWR_3PXE?usp=sharing"
   ]
  },
  {
   "cell_type": "code",
   "execution_count": 1,
   "metadata": {},
   "outputs": [],
   "source": [
    "purchases_list_real= [['original moisture body lotion',\n",
    "  'lactose and fat free milk',\n",
    "  'vanilla almond breeze almond milk',\n",
    "  'flavor variety instant oatmeal',\n",
    "  'original flavor instant oatmeal'],\n",
    " ['black tie frosted cupcake'],\n",
    " ['natural vanilla ice cream',\n",
    "  'whipped light cream',\n",
    "  'original',\n",
    "  'complete actionpacs lemon burst dishwasher detergent',\n",
    "  'classic vanilla coffee creamer'],\n",
    " ['organic pink lemonade bunny fruit snacks',\n",
    "  'sparkling water',\n",
    "  'natural mango essenced',\n",
    "  'trail mix fruit & nut chewy granola bars',\n",
    "  'popped salted caramel granola bars',\n",
    "  'peach-pear sparkling water',\n",
    "  'flax plus organic pumpkin flax granola',\n",
    "  'organic heritage flakes cereal',\n",
    "  'cool mint chocolate energy bar',\n",
    "  'chocolate chip energy bars',\n",
    "  'healthy grains granola bar',\n",
    "  'vanilla blueberry',\n",
    "  'dark chocolate minis',\n",
    "  'sweet & salty nut almond granola bars'],\n",
    " ['frosted chocolate cup cakes  with creamy filling',\n",
    "  'dark sumatra ground coffee',\n",
    "  'coke zero',\n",
    "  'natural pure sparkling water',\n",
    "  'cran-raspberry flavored sparkling water',\n",
    "  'organic apple juice',\n",
    "  'cran-apple juice drink',\n",
    "  'banana',\n",
    "  'unsweetened original almond breeze almond milk',\n",
    "  'original fresh stack crackers',\n",
    "  'goldfish cheddar baked snack crackers',\n",
    "  'eggo buttermilk waffles',\n",
    "  'creamy peanut butter',\n",
    "  'extra strength assorted fruit antacid',\n",
    "  'organic salted butter'],\n",
    " ['organic peeled garlic',\n",
    "  'original dairy free coconut milk',\n",
    "  'baby spinach',\n",
    "  'sparkling natural mineral water',\n",
    "  'organic cucumber',\n",
    "  'limes',\n",
    "  'organic ghee',\n",
    "  'organic cilantro',\n",
    "  'organic lacinato (dinosaur) kale',\n",
    "  'organic avocados',\n",
    "  'sweet potato yam',\n",
    "  'organic strawberries',\n",
    "  'organic chicken thighs',\n",
    "  'boneless skinless chicken breasts',\n",
    "  'organic paprika',\n",
    "  'unsweetened terere yerba mate',\n",
    "  'black tea pyramids',\n",
    "  'fresh cauliflower',\n",
    "  'italian extra virgin olive oil',\n",
    "  'organic spaghetti squash',\n",
    "  'organic zucchini',\n",
    "  'organic coconut milk',\n",
    "  'organic broccoli',\n",
    "  'jicama'],\n",
    " ['2nd foods organic  pear and spinach baby food',\n",
    "  'organic 2nd foods apples',\n",
    "  'blueberries & spinach baby food'],\n",
    " ['sparkling natural mineral water',\n",
    "  'macaroni & cheese',\n",
    "  'chocolate milk 1% milkfat',\n",
    "  'organic 1% low fat milk'],\n",
    " ['organic hass avocado',\n",
    "  'russet potato',\n",
    "  'bag of organic bananas',\n",
    "  'reduced fat milk',\n",
    "  'shredded 3 cheese blend'],\n",
    " ['organic lactose free 1% lowfat milk',\n",
    "  'strawberry protein shake',\n",
    "  'roasted turkey breast',\n",
    "  'organic egg whites',\n",
    "  '100% raw coconut water',\n",
    "  'organic sproutofu super firm tofu',\n",
    "  'organic hass avocado',\n",
    "  'miso soup',\n",
    "  'organic edamame',\n",
    "  'chicken & vegetable dumplings potstickers',\n",
    "  'organic pumpkin',\n",
    "  'sesame seaweed salad'],\n",
    " ['just green unsweetened tea',\n",
    "  '90% lean ground beef',\n",
    "  'peach mango iced green tea',\n",
    "  'zero calorie iced green tea raspberry',\n",
    "  'organic strawberries',\n",
    "  'milk chocolate english toffee miniatures candy bars',\n",
    "  'creme de menthe thins',\n",
    "  \"baker's pure cane ultrafine sugar\",\n",
    "  'plain bagels',\n",
    "  'cinnamon bread']]"
   ]
  },
  {
   "cell_type": "code",
   "execution_count": null,
   "metadata": {},
   "outputs": [],
   "source": [
    "association_rules1 = apriori(purchases_list_real, min_support=0.090, min_confidence=0.3, min_lift=1.2, min_length=2)\n",
    "association_results1 = list(association_rules1)\n",
    "association_results1"
   ]
  },
  {
   "cell_type": "code",
   "execution_count": null,
   "metadata": {},
   "outputs": [],
   "source": [
    "for i in range(0, len(association_results1)):\n",
    "    print(association_results1[i][0])"
   ]
  },
  {
   "cell_type": "code",
   "execution_count": null,
   "metadata": {},
   "outputs": [],
   "source": [
    "for item in association_rules1:\n",
    "    # first index of the inner list\n",
    "    # Contains base item and add item\n",
    "    pair = item[0]\n",
    "    items = [x for x in pair]\n",
    "    print(\"Rule: \" + items[0] + \" -> \" + items[1])\n",
    "\n",
    "    # second index of the inner list\n",
    "    print(\"Support: \" + str(item[1]))\n",
    "\n",
    "    # third index of the list located at 0th\n",
    "    # of the third index of the inner list\n",
    "\n",
    "    print(\"Confidence: \" + str(item[2][0][2]))\n",
    "    print(\"Lift: \" + str(item[2][0][3]))\n",
    "    print(\"=====================================\")"
   ]
  }
 ],
 "metadata": {
  "kernelspec": {
   "display_name": "Python 3",
   "language": "python",
   "name": "python3"
  },
  "language_info": {
   "codemirror_mode": {
    "name": "ipython",
    "version": 3
   },
   "file_extension": ".py",
   "mimetype": "text/x-python",
   "name": "python",
   "nbconvert_exporter": "python",
   "pygments_lexer": "ipython3",
   "version": "3.8.10"
  },
  "orig_nbformat": 4
 },
 "nbformat": 4,
 "nbformat_minor": 2
}
